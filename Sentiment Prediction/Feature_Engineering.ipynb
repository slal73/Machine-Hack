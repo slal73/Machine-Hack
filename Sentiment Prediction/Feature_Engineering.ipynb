{
 "cells": [
  {
   "cell_type": "code",
   "execution_count": 25,
   "metadata": {},
   "outputs": [],
   "source": [
    "import pandas as pd\n",
    "import numpy as np\n",
    "\n",
    "\n",
    "import numpy as np\n",
    "import pandas as pd\n",
    "import matplotlib.pyplot as plt\n",
    "import seaborn as sns\n",
    "import pickle\n",
    "from tqdm import tqdm, tqdm_notebook, trange\n",
    "from scipy.optimize import fmin\n",
    "from pylab import rcParams\n",
    "from IPython.display import clear_output\n",
    "import copy\n",
    "rcParams['figure.figsize'] = 8, 5\n",
    "\n",
    "pd.set_option('display.max_columns', None)"
   ]
  },
  {
   "cell_type": "code",
   "execution_count": 2,
   "metadata": {},
   "outputs": [],
   "source": [
    "# Imports for better visualization\n",
    "from matplotlib import rcParams\n",
    "#colorbrewer2 Dark2 qualitative color table\n",
    "dark2_colors = [(0.10588235294117647, 0.6196078431372549, 0.4666666666666667),\n",
    "                (0.8509803921568627, 0.37254901960784315, 0.00784313725490196),\n",
    "                (0.4588235294117647, 0.4392156862745098, 0.7019607843137254),\n",
    "                (0.9058823529411765, 0.1607843137254902, 0.5411764705882353),\n",
    "                (0.4, 0.6509803921568628, 0.11764705882352941),\n",
    "                (0.9019607843137255, 0.6705882352941176, 0.00784313725490196),\n",
    "                (0.6509803921568628, 0.4627450980392157, 0.11372549019607843)]\n",
    "\n",
    "rcParams['figure.figsize'] = (10, 4)\n",
    "rcParams['figure.dpi'] = 150\n",
    "#rcParams['axes.color_cycle'] = dark2_colors\n",
    "rcParams['lines.linewidth'] = 2\n",
    "rcParams['font.size'] = 8\n",
    "rcParams['patch.edgecolor'] = 'white'\n",
    "rcParams['patch.facecolor'] = dark2_colors[0]\n",
    "rcParams['font.family'] = 'StixGeneral'\n",
    "rcParams['axes.grid'] = True\n",
    "rcParams['axes.facecolor'] = '#eeeeee'"
   ]
  },
  {
   "cell_type": "code",
   "execution_count": 3,
   "metadata": {},
   "outputs": [
    {
     "data": {
      "text/plain": [
       "((947, 54), (527, 53), (527, 1))"
      ]
     },
     "execution_count": 3,
     "metadata": {},
     "output_type": "execute_result"
    }
   ],
   "source": [
    "train = pd.read_csv('Train.csv')\n",
    "test = pd.read_csv('Test.csv')\n",
    "sample = pd.read_excel('Sample_Submission.xlsx')\n",
    "train.shape, test.shape, sample.shape"
   ]
  },
  {
   "cell_type": "code",
   "execution_count": 4,
   "metadata": {},
   "outputs": [],
   "source": [
    "cols = ['Freq_Of_Word_4', 'Freq_Of_Word_29', 'Freq_Of_Word_31', 'Freq_Of_Word_32', 'Freq_Of_Word_34', 'Freq_Of_Word_38', \n",
    " 'Freq_Of_Word_41']"
   ]
  },
  {
   "cell_type": "code",
   "execution_count": 5,
   "metadata": {},
   "outputs": [
    {
     "data": {
      "text/plain": [
       "(1474, 46)"
      ]
     },
     "execution_count": 5,
     "metadata": {},
     "output_type": "execute_result"
    }
   ],
   "source": [
    "y = train['IsGoodNews']\n",
    "\n",
    "del train['IsGoodNews']\n",
    "\n",
    "data = pd.concat([train, test]).reset_index(drop=True)\n",
    "data = data.drop(cols, axis=1)\n",
    "data.shape"
   ]
  },
  {
   "cell_type": "code",
   "execution_count": 20,
   "metadata": {},
   "outputs": [],
   "source": [
    "from itertools import combinations\n",
    "from sklearn.preprocessing import PolynomialFeatures\n",
    "\n",
    "def add_interactions(df, deg=2):\n",
    "    combos = list(combinations(list(df.columns), deg))\n",
    "    colnames = list(df.columns)+['_'.join(x) for x in combos]\n",
    "    \n",
    "    #scaler = MinMaxScaler()\n",
    "    #scaler.fit(df)\n",
    "    #df = scaler.transform(df)\n",
    "    \n",
    "    poly = PolynomialFeatures(degree = deg, interaction_only=True, include_bias=False)\n",
    "    df = poly.fit_transform(df)\n",
    "    df = pd.DataFrame(df)\n",
    "    df.columns = colnames\n",
    "    \n",
    "    noint_indices = [i for i,x in enumerate(list((df==0).all())) if x]\n",
    "    df= df.drop(df.columns[noint_indices], axis=1)\n",
    "    \n",
    "    return df"
   ]
  },
  {
   "cell_type": "code",
   "execution_count": 7,
   "metadata": {},
   "outputs": [
    {
     "data": {
      "text/plain": [
       "(1474, 1081)"
      ]
     },
     "execution_count": 7,
     "metadata": {},
     "output_type": "execute_result"
    }
   ],
   "source": [
    "data_2 = add_interactions(data, degree=2)\n",
    "data_2.shape"
   ]
  },
  {
   "cell_type": "code",
   "execution_count": 8,
   "metadata": {},
   "outputs": [
    {
     "data": {
      "text/html": [
       "<div>\n",
       "<style scoped>\n",
       "    .dataframe tbody tr th:only-of-type {\n",
       "        vertical-align: middle;\n",
       "    }\n",
       "\n",
       "    .dataframe tbody tr th {\n",
       "        vertical-align: top;\n",
       "    }\n",
       "\n",
       "    .dataframe thead th {\n",
       "        text-align: right;\n",
       "    }\n",
       "</style>\n",
       "<table border=\"1\" class=\"dataframe\">\n",
       "  <thead>\n",
       "    <tr style=\"text-align: right;\">\n",
       "      <th></th>\n",
       "      <th>Freq_Of_Word_1</th>\n",
       "      <th>Freq_Of_Word_2</th>\n",
       "      <th>Freq_Of_Word_3</th>\n",
       "      <th>Freq_Of_Word_5</th>\n",
       "      <th>Freq_Of_Word_6</th>\n",
       "      <th>Freq_Of_Word_7</th>\n",
       "      <th>Freq_Of_Word_8</th>\n",
       "      <th>Freq_Of_Word_9</th>\n",
       "      <th>Freq_Of_Word_10</th>\n",
       "      <th>Freq_Of_Word_11</th>\n",
       "      <th>...</th>\n",
       "      <th>Freq_Of_Word_49_Freq_Of_Word_50</th>\n",
       "      <th>Freq_Of_Word_49_TotalEmojiCharacters</th>\n",
       "      <th>Freq_Of_Word_49_LengthOFFirstParagraph</th>\n",
       "      <th>Freq_Of_Word_49_StylizedLetters</th>\n",
       "      <th>Freq_Of_Word_50_TotalEmojiCharacters</th>\n",
       "      <th>Freq_Of_Word_50_LengthOFFirstParagraph</th>\n",
       "      <th>Freq_Of_Word_50_StylizedLetters</th>\n",
       "      <th>TotalEmojiCharacters_LengthOFFirstParagraph</th>\n",
       "      <th>TotalEmojiCharacters_StylizedLetters</th>\n",
       "      <th>LengthOFFirstParagraph_StylizedLetters</th>\n",
       "    </tr>\n",
       "  </thead>\n",
       "  <tbody>\n",
       "    <tr>\n",
       "      <th>0</th>\n",
       "      <td>-0.351864</td>\n",
       "      <td>2.620660</td>\n",
       "      <td>1.253645</td>\n",
       "      <td>-0.465210</td>\n",
       "      <td>-0.353977</td>\n",
       "      <td>-0.304257</td>\n",
       "      <td>-0.240708</td>\n",
       "      <td>-0.318797</td>\n",
       "      <td>-0.352968</td>\n",
       "      <td>-0.320591</td>\n",
       "      <td>...</td>\n",
       "      <td>0.012481</td>\n",
       "      <td>-0.002280</td>\n",
       "      <td>-0.003686</td>\n",
       "      <td>0.017641</td>\n",
       "      <td>-0.004525</td>\n",
       "      <td>-0.007314</td>\n",
       "      <td>0.035011</td>\n",
       "      <td>0.001336</td>\n",
       "      <td>-0.006396</td>\n",
       "      <td>-0.010338</td>\n",
       "    </tr>\n",
       "    <tr>\n",
       "      <th>1</th>\n",
       "      <td>-0.351864</td>\n",
       "      <td>-0.318036</td>\n",
       "      <td>-0.561952</td>\n",
       "      <td>-0.465210</td>\n",
       "      <td>-0.353977</td>\n",
       "      <td>-0.304257</td>\n",
       "      <td>3.837751</td>\n",
       "      <td>-0.318797</td>\n",
       "      <td>-0.352968</td>\n",
       "      <td>-0.320591</td>\n",
       "      <td>...</td>\n",
       "      <td>0.068929</td>\n",
       "      <td>0.016313</td>\n",
       "      <td>0.029695</td>\n",
       "      <td>0.061983</td>\n",
       "      <td>0.048724</td>\n",
       "      <td>0.088696</td>\n",
       "      <td>0.185138</td>\n",
       "      <td>0.020991</td>\n",
       "      <td>0.043815</td>\n",
       "      <td>0.079759</td>\n",
       "    </tr>\n",
       "    <tr>\n",
       "      <th>2</th>\n",
       "      <td>-0.351864</td>\n",
       "      <td>-0.318036</td>\n",
       "      <td>-0.561952</td>\n",
       "      <td>-0.465210</td>\n",
       "      <td>-0.353977</td>\n",
       "      <td>-0.304257</td>\n",
       "      <td>-0.240708</td>\n",
       "      <td>-0.318797</td>\n",
       "      <td>-0.352968</td>\n",
       "      <td>-0.320591</td>\n",
       "      <td>...</td>\n",
       "      <td>0.068929</td>\n",
       "      <td>0.016313</td>\n",
       "      <td>0.028504</td>\n",
       "      <td>0.059637</td>\n",
       "      <td>0.048724</td>\n",
       "      <td>0.085137</td>\n",
       "      <td>0.178129</td>\n",
       "      <td>0.020149</td>\n",
       "      <td>0.042156</td>\n",
       "      <td>0.073661</td>\n",
       "    </tr>\n",
       "    <tr>\n",
       "      <th>3</th>\n",
       "      <td>1.210190</td>\n",
       "      <td>2.682528</td>\n",
       "      <td>1.291868</td>\n",
       "      <td>0.221744</td>\n",
       "      <td>-0.353977</td>\n",
       "      <td>-0.304257</td>\n",
       "      <td>0.859101</td>\n",
       "      <td>-0.318797</td>\n",
       "      <td>2.374782</td>\n",
       "      <td>-0.320591</td>\n",
       "      <td>...</td>\n",
       "      <td>-0.051760</td>\n",
       "      <td>-0.202680</td>\n",
       "      <td>-0.344975</td>\n",
       "      <td>-0.091600</td>\n",
       "      <td>0.454593</td>\n",
       "      <td>0.773748</td>\n",
       "      <td>0.205451</td>\n",
       "      <td>3.029835</td>\n",
       "      <td>0.804503</td>\n",
       "      <td>1.369318</td>\n",
       "    </tr>\n",
       "    <tr>\n",
       "      <th>4</th>\n",
       "      <td>-0.351864</td>\n",
       "      <td>-0.318036</td>\n",
       "      <td>-0.561952</td>\n",
       "      <td>-0.465210</td>\n",
       "      <td>-0.353977</td>\n",
       "      <td>-0.304257</td>\n",
       "      <td>-0.240708</td>\n",
       "      <td>-0.318797</td>\n",
       "      <td>-0.352968</td>\n",
       "      <td>-0.320591</td>\n",
       "      <td>...</td>\n",
       "      <td>-0.141348</td>\n",
       "      <td>0.004368</td>\n",
       "      <td>0.017186</td>\n",
       "      <td>0.019535</td>\n",
       "      <td>-0.026751</td>\n",
       "      <td>-0.105266</td>\n",
       "      <td>-0.119650</td>\n",
       "      <td>0.003253</td>\n",
       "      <td>0.003697</td>\n",
       "      <td>0.014548</td>\n",
       "    </tr>\n",
       "  </tbody>\n",
       "</table>\n",
       "<p>5 rows × 1081 columns</p>\n",
       "</div>"
      ],
      "text/plain": [
       "   Freq_Of_Word_1  Freq_Of_Word_2  Freq_Of_Word_3  Freq_Of_Word_5  \\\n",
       "0       -0.351864        2.620660        1.253645       -0.465210   \n",
       "1       -0.351864       -0.318036       -0.561952       -0.465210   \n",
       "2       -0.351864       -0.318036       -0.561952       -0.465210   \n",
       "3        1.210190        2.682528        1.291868        0.221744   \n",
       "4       -0.351864       -0.318036       -0.561952       -0.465210   \n",
       "\n",
       "   Freq_Of_Word_6  Freq_Of_Word_7  Freq_Of_Word_8  Freq_Of_Word_9  \\\n",
       "0       -0.353977       -0.304257       -0.240708       -0.318797   \n",
       "1       -0.353977       -0.304257        3.837751       -0.318797   \n",
       "2       -0.353977       -0.304257       -0.240708       -0.318797   \n",
       "3       -0.353977       -0.304257        0.859101       -0.318797   \n",
       "4       -0.353977       -0.304257       -0.240708       -0.318797   \n",
       "\n",
       "   Freq_Of_Word_10  Freq_Of_Word_11  ...  Freq_Of_Word_49_Freq_Of_Word_50  \\\n",
       "0        -0.352968        -0.320591  ...                         0.012481   \n",
       "1        -0.352968        -0.320591  ...                         0.068929   \n",
       "2        -0.352968        -0.320591  ...                         0.068929   \n",
       "3         2.374782        -0.320591  ...                        -0.051760   \n",
       "4        -0.352968        -0.320591  ...                        -0.141348   \n",
       "\n",
       "   Freq_Of_Word_49_TotalEmojiCharacters  \\\n",
       "0                             -0.002280   \n",
       "1                              0.016313   \n",
       "2                              0.016313   \n",
       "3                             -0.202680   \n",
       "4                              0.004368   \n",
       "\n",
       "   Freq_Of_Word_49_LengthOFFirstParagraph  Freq_Of_Word_49_StylizedLetters  \\\n",
       "0                               -0.003686                         0.017641   \n",
       "1                                0.029695                         0.061983   \n",
       "2                                0.028504                         0.059637   \n",
       "3                               -0.344975                        -0.091600   \n",
       "4                                0.017186                         0.019535   \n",
       "\n",
       "   Freq_Of_Word_50_TotalEmojiCharacters  \\\n",
       "0                             -0.004525   \n",
       "1                              0.048724   \n",
       "2                              0.048724   \n",
       "3                              0.454593   \n",
       "4                             -0.026751   \n",
       "\n",
       "   Freq_Of_Word_50_LengthOFFirstParagraph  Freq_Of_Word_50_StylizedLetters  \\\n",
       "0                               -0.007314                         0.035011   \n",
       "1                                0.088696                         0.185138   \n",
       "2                                0.085137                         0.178129   \n",
       "3                                0.773748                         0.205451   \n",
       "4                               -0.105266                        -0.119650   \n",
       "\n",
       "   TotalEmojiCharacters_LengthOFFirstParagraph  \\\n",
       "0                                     0.001336   \n",
       "1                                     0.020991   \n",
       "2                                     0.020149   \n",
       "3                                     3.029835   \n",
       "4                                     0.003253   \n",
       "\n",
       "   TotalEmojiCharacters_StylizedLetters  \\\n",
       "0                             -0.006396   \n",
       "1                              0.043815   \n",
       "2                              0.042156   \n",
       "3                              0.804503   \n",
       "4                              0.003697   \n",
       "\n",
       "   LengthOFFirstParagraph_StylizedLetters  \n",
       "0                               -0.010338  \n",
       "1                                0.079759  \n",
       "2                                0.073661  \n",
       "3                                1.369318  \n",
       "4                                0.014548  \n",
       "\n",
       "[5 rows x 1081 columns]"
      ]
     },
     "execution_count": 8,
     "metadata": {},
     "output_type": "execute_result"
    }
   ],
   "source": [
    "data_2.head()"
   ]
  },
  {
   "cell_type": "code",
   "execution_count": 11,
   "metadata": {},
   "outputs": [
    {
     "name": "stderr",
     "output_type": "stream",
     "text": [
      "C:\\Users\\shankar\\Anaconda3\\envs\\tf\\lib\\site-packages\\ipykernel_launcher.py:4: SettingWithCopyWarning: \n",
      "A value is trying to be set on a copy of a slice from a DataFrame.\n",
      "Try using .loc[row_indexer,col_indexer] = value instead\n",
      "\n",
      "See the caveats in the documentation: https://pandas.pydata.org/pandas-docs/stable/user_guide/indexing.html#returning-a-view-versus-a-copy\n",
      "  after removing the cwd from sys.path.\n"
     ]
    },
    {
     "data": {
      "text/plain": [
       "(947, 1082)"
      ]
     },
     "execution_count": 11,
     "metadata": {},
     "output_type": "execute_result"
    }
   ],
   "source": [
    "X = data_2[:train.shape[0]]\n",
    "test_X = data_2[train.shape[0]:].reset_index(drop=True)\n",
    "\n",
    "X['IsGoodNews'] = y\n",
    "X.shape"
   ]
  },
  {
   "cell_type": "code",
   "execution_count": 12,
   "metadata": {},
   "outputs": [],
   "source": [
    "X.to_csv('train_1081_feat.csv', index=False)\n",
    "test_X.to_csv('test_1081_feat.csv', index=False)"
   ]
  },
  {
   "cell_type": "code",
   "execution_count": null,
   "metadata": {},
   "outputs": [],
   "source": []
  },
  {
   "cell_type": "code",
   "execution_count": null,
   "metadata": {},
   "outputs": [],
   "source": []
  }
 ],
 "metadata": {
  "kernelspec": {
   "display_name": "Tensorflow-GPU",
   "language": "python",
   "name": "tf"
  },
  "language_info": {
   "codemirror_mode": {
    "name": "ipython",
    "version": 3
   },
   "file_extension": ".py",
   "mimetype": "text/x-python",
   "name": "python",
   "nbconvert_exporter": "python",
   "pygments_lexer": "ipython3",
   "version": "3.7.6"
  }
 },
 "nbformat": 4,
 "nbformat_minor": 4
}
